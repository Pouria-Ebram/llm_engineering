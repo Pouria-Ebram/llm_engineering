{
 "cells": [
  {
   "cell_type": "markdown",
   "id": "d006b2ea-9dfe-49c7-88a9-a5a0775185fd",
   "metadata": {},
   "source": [
    "# Additional End of week Exercise - week 2\n",
    "\n",
    "Now use everything you've learned from Week 2 to build a full prototype for the technical question/answerer you built in Week 1 Exercise.\n",
    "\n",
    "This should include a Gradio UI, streaming, use of the system prompt to add expertise, and the ability to switch between models. Bonus points if you can demonstrate use of a tool!\n",
    "\n",
    "If you feel bold, see if you can add audio input so you can talk to it, and have it respond with audio. ChatGPT or Claude can help you, or email me if you have questions.\n",
    "\n",
    "I will publish a full solution here soon - unless someone beats me to it...\n",
    "\n",
    "There are so many commercial applications for this, from a language tutor, to a company onboarding solution, to a companion AI to a course (like this one!) I can't wait to see your results."
   ]
  },
  {
   "cell_type": "markdown",
   "id": "2ee86756-8474-4961-b1a1-76720155a972",
   "metadata": {},
   "source": [
    "## 1. Setup and Imports"
   ]
  },
  {
   "cell_type": "code",
   "execution_count": 1,
   "id": "a07e7793-b8f5-44f4-aded-5562f633271a",
   "metadata": {},
   "outputs": [],
   "source": [
    "# imports\n",
    "\n",
    "import os\n",
    "import json\n",
    "from dotenv import load_dotenv\n",
    "from openai import OpenAI\n",
    "import gradio as gr"
   ]
  },
  {
   "cell_type": "code",
   "execution_count": 2,
   "id": "c97431d7-6c1a-4871-b83e-0b608c53a112",
   "metadata": {},
   "outputs": [
    {
     "name": "stdout",
     "output_type": "stream",
     "text": [
      "OpenAI API Key exists and begins sk-proj-\n"
     ]
    }
   ],
   "source": [
    "# Initialization\n",
    "\n",
    "load_dotenv()\n",
    "\n",
    "openai_api_key = os.getenv('OPENAI_API_KEY')\n",
    "if openai_api_key:\n",
    "    print(f\"OpenAI API Key exists and begins {openai_api_key[:8]}\")\n",
    "else:\n",
    "    print(\"OpenAI API Key not set\")\n",
    "    \n",
    "MODEL = \"gpt-4o-mini\"\n",
    "openai = OpenAI()"
   ]
  },
  {
   "cell_type": "markdown",
   "id": "8634303d-11d0-4b24-8fd3-7c04e78ef62e",
   "metadata": {},
   "source": [
    "## 2. Build a Technical Chat Assistant for GenAI queries "
   ]
  },
  {
   "cell_type": "code",
   "execution_count": 5,
   "id": "381a92af-9c5b-407f-acb7-e552b1385ea7",
   "metadata": {},
   "outputs": [],
   "source": [
    "system_prompt = \"You are an assistant that responds to technical question mostly related to generative AI and large language models. \\\n",
    "Try and understand the user experience first by having a conversation with the user before you answer their question. \\\n",
    "answer their questions considering their level of experience and helping grow their knowledge of the topic.\\\n",
    "Include details which can explain the response and teaches the reader about the topic. \\\n",
    "be factual and if you don't know the answer simply say you don't know.\""
   ]
  },
  {
   "cell_type": "code",
   "execution_count": 6,
   "id": "bc9c5741-7df1-4f6a-a455-15d13606c8b6",
   "metadata": {},
   "outputs": [],
   "source": [
    "force_dark_mode = \"\"\"\n",
    "function refresh() {\n",
    "    const url = new URL(window.location);\n",
    "    if (url.searchParams.get('__theme') !== 'dark') {\n",
    "        url.searchParams.set('__theme', 'dark');\n",
    "        window.location.href = url.href;\n",
    "    }\n",
    "}\n",
    "\"\"\""
   ]
  },
  {
   "cell_type": "code",
   "execution_count": 7,
   "id": "b9517a03-1e54-4f47-a081-d3c60f27aaf1",
   "metadata": {},
   "outputs": [
    {
     "name": "stdout",
     "output_type": "stream",
     "text": [
      "* Running on local URL:  http://127.0.0.1:7866\n",
      "\n",
      "To create a public link, set `share=True` in `launch()`.\n"
     ]
    },
    {
     "data": {
      "text/html": [
       "<div><iframe src=\"http://127.0.0.1:7866/\" width=\"100%\" height=\"500\" allow=\"autoplay; camera; microphone; clipboard-read; clipboard-write;\" frameborder=\"0\" allowfullscreen></iframe></div>"
      ],
      "text/plain": [
       "<IPython.core.display.HTML object>"
      ]
     },
     "metadata": {},
     "output_type": "display_data"
    },
    {
     "data": {
      "text/plain": []
     },
     "execution_count": 7,
     "metadata": {},
     "output_type": "execute_result"
    }
   ],
   "source": [
    "def chat(message, history):\n",
    "    messages = [{\"role\": \"system\", \"content\": system_prompt}] + history + [{\"role\": \"user\", \"content\": message}]\n",
    "    response = openai.chat.completions.create(model=MODEL, messages=messages)\n",
    "    return response.choices[0].message.content\n",
    "\n",
    "gr.ChatInterface(fn=chat, type=\"messages\", js=force_dark_mode).launch()"
   ]
  },
  {
   "cell_type": "markdown",
   "id": "4dd59dc4-6d6d-43cf-a0b8-ac1c109b5c35",
   "metadata": {},
   "source": [
    "## 3. Add Tool functionality"
   ]
  },
  {
   "cell_type": "code",
   "execution_count": 8,
   "id": "6e5be67a-8538-4cec-8f84-6c84e464317e",
   "metadata": {},
   "outputs": [],
   "source": [
    "# Let's start by making a useful function\n",
    "\n",
    "model_links = {\"gpt\": \"https://aws.amazon.com/what-is/gpt/?utm_source=chatgpt.com\", \n",
    "               \"sonet3.5\": \"https://www.anthropic.com/news/claude-3-5-sonnet?utm_source=chatgpt.com\",\n",
    "               \"deepseekr1\": \"https://www.vellum.ai/blog/the-training-of-deepseek-r1-and-ways-to-use-it\"}\n",
    "\n",
    "def get_model_links(model):\n",
    "    print(f\"Tool get_model_links called for {model}\")\n",
    "    link = model.lower()\n",
    "    return model_links.get(model, \"Unknown\")"
   ]
  },
  {
   "cell_type": "code",
   "execution_count": 9,
   "id": "a075e8b9-b60a-4750-aa45-ecbf364b077b",
   "metadata": {},
   "outputs": [
    {
     "name": "stdout",
     "output_type": "stream",
     "text": [
      "Tool get_model_links called for gpt\n"
     ]
    },
    {
     "data": {
      "text/plain": [
       "'https://aws.amazon.com/what-is/gpt/?utm_source=chatgpt.com'"
      ]
     },
     "execution_count": 9,
     "metadata": {},
     "output_type": "execute_result"
    }
   ],
   "source": [
    "get_model_links('gpt')"
   ]
  },
  {
   "cell_type": "code",
   "execution_count": 10,
   "id": "4a439767-487b-4b66-af21-b4c0f34dce43",
   "metadata": {},
   "outputs": [],
   "source": [
    "# There's a particular dictionary structure that's required to describe our function:\n",
    "\n",
    "model_function = {\n",
    "    \"name\": \"get_model_links\",\n",
    "    \"description\": \"Get the related links that describes a model. Call this whenever you need to provide the user links to learn more about a model, for example when a user asks 'How can I learn more about gpt'\",\n",
    "    \"parameters\": {\n",
    "        \"type\": \"object\",\n",
    "        \"properties\": {\n",
    "            \"model\": {\n",
    "                \"type\": \"string\",\n",
    "                \"description\": \"The model that the user wants to learn about\",\n",
    "            },\n",
    "        },\n",
    "        \"required\": [\"model\"],\n",
    "        \"additionalProperties\": False\n",
    "    }\n",
    "}"
   ]
  },
  {
   "cell_type": "code",
   "execution_count": 11,
   "id": "3a720ef5-9aab-4251-a02a-1a9e8cd8d794",
   "metadata": {},
   "outputs": [],
   "source": [
    "# And this is included in a list of tools:\n",
    "tools = [{\"type\": \"function\", \"function\": model_function}]"
   ]
  },
  {
   "cell_type": "code",
   "execution_count": 13,
   "id": "355bcfd1-cccd-4698-bd70-fdac2fc054bc",
   "metadata": {},
   "outputs": [],
   "source": [
    "def chat(message, history):\n",
    "    messages = [{\"role\": \"system\", \"content\": system_prompt}] + history + [{\"role\": \"user\", \"content\": message}]\n",
    "    response = openai.chat.completions.create(model=MODEL, messages=messages, tools=tools)\n",
    "\n",
    "    if response.choices[0].finish_reason==\"tool_calls\":\n",
    "        message = response.choices[0].message\n",
    "        response, model = handle_tool_call(message)\n",
    "        messages.append(message)\n",
    "        messages.append(response)\n",
    "        response = openai.chat.completions.create(model=MODEL, messages=messages)\n",
    "    \n",
    "    return response.choices[0].message.content"
   ]
  },
  {
   "cell_type": "code",
   "execution_count": 14,
   "id": "c9041a14-76d4-4a52-ba67-e3c4e565cc51",
   "metadata": {},
   "outputs": [],
   "source": [
    "# We have to write that function handle_tool_call:\n",
    "def handle_tool_call(message):\n",
    "    tool_call = message.tool_calls[0]\n",
    "    arguments = json.loads(tool_call.function.arguments)\n",
    "    model = arguments.get('model')\n",
    "    link = get_model_links(model)\n",
    "    response = {\n",
    "        \"role\": \"tool\",\n",
    "        \"content\": json.dumps({\"model\": model,\"link\": link}),\n",
    "        \"tool_call_id\": tool_call.id\n",
    "    }\n",
    "    return response, model"
   ]
  },
  {
   "cell_type": "code",
   "execution_count": 15,
   "id": "3a7bc864-26d0-4d15-b068-6fc189fb96b9",
   "metadata": {},
   "outputs": [
    {
     "name": "stdout",
     "output_type": "stream",
     "text": [
      "* Running on local URL:  http://127.0.0.1:7867\n",
      "\n",
      "To create a public link, set `share=True` in `launch()`.\n"
     ]
    },
    {
     "data": {
      "text/html": [
       "<div><iframe src=\"http://127.0.0.1:7867/\" width=\"100%\" height=\"500\" allow=\"autoplay; camera; microphone; clipboard-read; clipboard-write;\" frameborder=\"0\" allowfullscreen></iframe></div>"
      ],
      "text/plain": [
       "<IPython.core.display.HTML object>"
      ]
     },
     "metadata": {},
     "output_type": "display_data"
    },
    {
     "data": {
      "text/plain": []
     },
     "execution_count": 15,
     "metadata": {},
     "output_type": "execute_result"
    },
    {
     "name": "stdout",
     "output_type": "stream",
     "text": [
      "Tool get_model_links called for sonet3.5\n"
     ]
    }
   ],
   "source": [
    "gr.ChatInterface(fn=chat, type=\"messages\", js=force_dark_mode).launch()"
   ]
  },
  {
   "cell_type": "code",
   "execution_count": null,
   "id": "54fcc6c1-1a72-49db-80e3-a53f1134eebf",
   "metadata": {},
   "outputs": [],
   "source": []
  }
 ],
 "metadata": {
  "kernelspec": {
   "display_name": "Python 3 (ipykernel)",
   "language": "python",
   "name": "python3"
  },
  "language_info": {
   "codemirror_mode": {
    "name": "ipython",
    "version": 3
   },
   "file_extension": ".py",
   "mimetype": "text/x-python",
   "name": "python",
   "nbconvert_exporter": "python",
   "pygments_lexer": "ipython3",
   "version": "3.11.3"
  }
 },
 "nbformat": 4,
 "nbformat_minor": 5
}
