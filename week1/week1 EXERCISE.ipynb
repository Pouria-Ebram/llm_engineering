{
 "cells": [
  {
   "cell_type": "markdown",
   "id": "fe12c203-e6a6-452c-a655-afb8a03a4ff5",
   "metadata": {},
   "source": [
    "# End of week 1 exercise\n",
    "\n",
    "To demonstrate your familiarity with OpenAI API, and also Ollama, build a tool that takes a technical question,  \n",
    "and responds with an explanation. This is a tool that you will be able to use yourself during the course!"
   ]
  },
  {
   "cell_type": "code",
   "execution_count": 1,
   "id": "c1070317-3ed9-4659-abe3-828943230e03",
   "metadata": {},
   "outputs": [],
   "source": [
    "# imports\n",
    "import os\n",
    "import requests\n",
    "import json\n",
    "from typing import List\n",
    "from dotenv import load_dotenv\n",
    "from bs4 import BeautifulSoup\n",
    "from IPython.display import Markdown, display, update_display\n",
    "from openai import OpenAI\n"
   ]
  },
  {
   "cell_type": "code",
   "execution_count": 6,
   "id": "4a456906-915a-4bfd-bb9d-57e505c5093f",
   "metadata": {},
   "outputs": [],
   "source": [
    "# constants\n",
    "\n",
    "MODEL_GPT = 'gpt-4o-mini'\n",
    "MODEL_LLAMA = \"llama3.2:1b\"\n",
    "OLLAMA_API = \"http://localhost:11434/api/chat\"\n",
    "HEADERS = {\"Content-Type\": \"application/json\"}"
   ]
  },
  {
   "cell_type": "code",
   "execution_count": 4,
   "id": "a8d7923c-5f28-4c30-8556-342d7c8497c1",
   "metadata": {},
   "outputs": [
    {
     "name": "stdout",
     "output_type": "stream",
     "text": [
      "API key looks good so far\n"
     ]
    }
   ],
   "source": [
    "# set up environment\n",
    "load_dotenv(override=True)\n",
    "api_key = os.getenv('OPENAI_API_KEY')\n",
    "\n",
    "if api_key and api_key.startswith('sk-proj-') and len(api_key)>10:\n",
    "    print(\"API key looks good so far\")\n",
    "else:\n",
    "    print(\"There might be a problem with your API key? Please visit the troubleshooting notebook!\")\n",
    "\n",
    "openai = OpenAI()"
   ]
  },
  {
   "cell_type": "code",
   "execution_count": 5,
   "id": "a84ab161-17ed-46cd-8522-fa1d6dc7ca83",
   "metadata": {},
   "outputs": [],
   "source": [
    "# Test Ollama model\n",
    "messages = [\n",
    "    {\"role\": \"user\", \"content\": \"Describe some of the business applications of Generative AI\"}\n",
    "]\n",
    "\n",
    "payload = {\n",
    "        \"model\": MODEL_LLAMA,\n",
    "        \"messages\": messages,\n",
    "        \"stream\": False\n",
    "    }\n",
    "\n",
    "response = requests.post(OLLAMA_API, json=payload, headers=HEADERS)\n",
    "print(response.json()['message']['content'])"
   ]
  },
  {
   "cell_type": "code",
   "execution_count": 29,
   "id": "3f0d0137-52b0-47a8-81a8-11a90a010798",
   "metadata": {},
   "outputs": [],
   "source": [
    "# here is the question; type over this to ask something new\n",
    "\n",
    "question = \"\"\"\n",
    "Please explain what this code does and why:\n",
    "yield from {book.get(\"author\") for book in books if book.get(\"author\")}\n",
    "\"\"\"\n",
    "\n",
    "question = \"\"\"\n",
    "Please explain what this code does and why:\n",
    "for giraff in jungle print lion\n",
    "\"\"\"\n",
    "\n",
    "system_prompt = \"You are an assistant that analyzes the contents of a technical question mostly related to coding \\\n",
    "and creates a detailed walkthrough of the code to try and explain what it does at high level and each section in markdown.\\\n",
    "Include details which can explain the code well and teaches the reader how it can be used further.\"\n"
   ]
  },
  {
   "cell_type": "code",
   "execution_count": 30,
   "id": "60ce7000-a4a5-4cce-a261-e75ef45063b4",
   "metadata": {},
   "outputs": [],
   "source": [
    "# Get gpt-4o-mini to answer, with streaming\n",
    "\n",
    "def technical_sme(question):\n",
    "    stream = openai.chat.completions.create(\n",
    "        model=MODEL_GPT,\n",
    "        messages=[\n",
    "            {\"role\": \"system\", \"content\": system_prompt},\n",
    "            {\"role\": \"user\", \"content\": question}\n",
    "          ],\n",
    "        stream=True\n",
    "    )\n",
    "    \n",
    "    response = \"\"\n",
    "    display_handle = display(Markdown(\"\"), display_id=True)\n",
    "    for chunk in stream:\n",
    "        response += chunk.choices[0].delta.content or ''\n",
    "        response = response.replace(\"```\",\"\").replace(\"markdown\", \"\")\n",
    "        update_display(Markdown(response), display_id=display_handle.display_id)"
   ]
  },
  {
   "cell_type": "code",
   "execution_count": 31,
   "id": "2d2e1819-7900-4753-97d1-57f8f115fa86",
   "metadata": {},
   "outputs": [
    {
     "data": {
      "text/markdown": [
       "This snippet of code appears to be written with a misunderstanding of Python syntax. Let's analyze it step by step and provide an explanation with corrections that align with typical Python conventions. \n",
       "\n",
       "## High-level Overview\n",
       "\n",
       "The intent of the code seems to involve iterating over a collection named `jungle` and printing a variable named `lion` for each item in the collection. However, due to syntax errors, it will not execute properly.\n",
       "\n",
       "### Issues in the Code\n",
       "\n",
       "1. **Syntax Issues**: \n",
       "   - The `for` loop requires a colon (`:`) at the end of its declaration. \n",
       "   - The body of the `for` loop must be indented.\n",
       "\n",
       "2. **Variable Names**: \n",
       "   - The variables `giraff` and `lion` suggest an abstract representation, not a direct relationship in the code logic.\n",
       "   - The use of `jungle` is likely intended to be a list or some iterable structure.\n",
       "\n",
       "Given the original code, let's correct it for clarity.\n",
       "\n",
       "## Corrected Code\n",
       "\n",
       "python\n",
       "for giraff in jungle:\n",
       "    print(lion)\n",
       "\n",
       "\n",
       "### Breakdown of the Corrected Code\n",
       "\n",
       "1. **`for giraff in jungle:`**:\n",
       "   - This line initiates a `for` loop that iterates over each element in the `jungle` collection.\n",
       "   - Here, `giraff` is a loop variable that takes on each value from `jungle` in each iteration. This means that if `jungle` is, for example, a list containing animal names, `giraff` would represent each of those names one by one.\n",
       "\n",
       "2. **`print(lion)`**:\n",
       "   - Within the body of the loop (where we now have proper indentation), this command will execute on each iteration.\n",
       "   - Regardless of what `giraff` is or the contents of `jungle`, the code simply prints the value of the variable `lion` every time it goes through the loop.\n",
       "   - This means if `lion` holds a string (like `\"Lion\"`), `\"Lion\"` will be printed the same number of times as there are elements in `jungle`.\n",
       "\n",
       "## Example Usage\n",
       "\n",
       "### Defining the Variables\n",
       "\n",
       "To give context on how this code might be executed, let's define `jungle` and `lion`:\n",
       "\n",
       "python\n",
       "jungle = ['giraffe', 'elephant', 'zebra']\n",
       "lion = 'Lion'\n",
       "\n",
       "\n",
       "### Executing the Code\n",
       "\n",
       "With the above setup, running the corrected loop:\n",
       "\n",
       "python\n",
       "for giraff in jungle:\n",
       "    print(lion)\n",
       "\n",
       "\n",
       "### Output\n",
       "\n",
       "This will yield:\n",
       "\n",
       "Lion\n",
       "Lion\n",
       "Lion\n",
       "\n",
       "\n",
       "### Explanation of Use Case\n",
       "\n",
       "1. **Iterating Through Elements**: The loop structure is beneficial for executing repeated actions for each item in a collection. Although this example prints the same value repeatedly, it showcases the structure where the contents of both `jungle` and `lion` could be modified for diverse outcomes.\n",
       "\n",
       "2. **Flexibility**: You can modify the contents and the purpose of the `print(lion)` statement. For example, you could replace it with a statement that makes use of the loop variable `giraff`:\n",
       "\n",
       "   python\n",
       "   for giraff in jungle:\n",
       "       print(f\"{giraff} is in the jungle with {lion}.\")\n",
       "   \n",
       "\n",
       "   This would yield:\n",
       "   \n",
       "   giraffe is in the jungle with Lion.\n",
       "   elephant is in the jungle with Lion.\n",
       "   zebra is in the jungle with Lion.\n",
       "   \n",
       "\n",
       "3. **Real-world Application**: Such a loop can be used to process lists of items, to represent relationships in data, or to execute actions based on elements from dynamic datasets, which is fundamental in data processing and various programming tasks.\n",
       "\n",
       "In conclusion, the original code had syntactic errors, but with corrections and proper context, Python's `for` loop can powerfully manage collections and perform repeated operations as demonstrated!"
      ],
      "text/plain": [
       "<IPython.core.display.Markdown object>"
      ]
     },
     "metadata": {},
     "output_type": "display_data"
    }
   ],
   "source": [
    "technical_sme(question)"
   ]
  },
  {
   "cell_type": "code",
   "execution_count": 27,
   "id": "8f7c8ea8-4082-4ad0-8751-3301adcf6538",
   "metadata": {},
   "outputs": [],
   "source": [
    "# Get Llama 3.2 to answer\n",
    "\n",
    "MODEL_LLAMA = \"llama3.2:1b\"\n",
    "OLLAMA_API = \"http://localhost:11434/api/chat\"\n",
    "HEADERS = {\"Content-Type\": \"application/json\"}\n",
    "\n",
    "def technical_sme_llama(question, OLLAMA_API):\n",
    "    messages = [{\"role\": \"user\", \"content\": question}]\n",
    "    payload = {\n",
    "        \"model\": MODEL_LLAMA,\n",
    "        \"messages\": messages,\n",
    "        \"stream\": True\n",
    "    }\n",
    "\n",
    "    response = requests.post(OLLAMA_API, json=payload, headers=HEADERS, stream=True)\n",
    "\n",
    "    response_text = \"\"\n",
    "    display_handle = display(Markdown(\"\"), display_id=True)\n",
    "\n",
    "    for line in response.iter_lines(decode_unicode=True):\n",
    "        if line:\n",
    "            #print(\"Raw line received:\", line)  # Debug log\n",
    "            try:\n",
    "                chunk = json.loads(line)\n",
    "                #print(\"Parsed chunk:\", chunk)  # Debug log\n",
    "\n",
    "                # Extract content from the \"message\" field\n",
    "                message_content = chunk.get(\"message\", {}).get(\"content\", \"\")\n",
    "                response_text += message_content\n",
    "                response_text = response_text.replace(\"```\", \"\").replace(\"markdown\", \"\")\n",
    "\n",
    "                # Update the display with the streamed content\n",
    "                update_display(Markdown(response_text), display_id=display_handle.display_id)\n",
    "            except json.JSONDecodeError:\n",
    "                print(\"Error decoding response:\", line)\n"
   ]
  },
  {
   "cell_type": "code",
   "execution_count": 32,
   "id": "dae1861c-ef80-47e5-a014-77837c87f446",
   "metadata": {},
   "outputs": [
    {
     "data": {
      "text/markdown": [
       "This Python code snippet appears to be a simple example of a \"loop through\" statement, but it doesn't do what you might think. \n",
       "\n",
       "The `giraff` variable is a variable name that's not defined anywhere in the given code. The `print(lion)` statement seems to be trying to print something or output data.\n",
       "\n",
       "However, based on the syntax and structure of the lines provided, here's a possible interpretation:\n",
       "\n",
       "1. `for giraff in jungle`: This line starts a \"loop\" where you're iterating over values in the `jungle` variable.\n",
       "2. `print(lion)`: Within this loop, after each iteration (i.e., for every value of `giraff` in the `jungle`), this statement attempts to print something.\n",
       "\n",
       "The issue here is that there's a typo in the last line: it should be `\"lion\"` instead of `lion`. Here's the corrected version:\n",
       "\n",
       "python\n",
       "for giraff in jungle:\n",
       "    print(lion)\n",
       "\n",
       "\n",
       "Without knowing what's intended, it's hard to give more insight. However, in general, this type of code would likely be used for some form of data processing or iteration where you want to loop through a list of elements.\n",
       "\n",
       "The context is unclear without further information on the `jungle` variable and its contents."
      ],
      "text/plain": [
       "<IPython.core.display.Markdown object>"
      ]
     },
     "metadata": {},
     "output_type": "display_data"
    },
    {
     "data": {
      "text/plain": [
       "'This Python code snippet appears to be a simple example of a \"loop through\" statement, but it doesn\\'t do what you might think. \\n\\nThe `giraff` variable is a variable name that\\'s not defined anywhere in the given code. The `print(lion)` statement seems to be trying to print something or output data.\\n\\nHowever, based on the syntax and structure of the lines provided, here\\'s a possible interpretation:\\n\\n1. `for giraff in jungle`: This line starts a \"loop\" where you\\'re iterating over values in the `jungle` variable.\\n2. `print(lion)`: Within this loop, after each iteration (i.e., for every value of `giraff` in the `jungle`), this statement attempts to print something.\\n\\nThe issue here is that there\\'s a typo in the last line: it should be `\"lion\"` instead of `lion`. Here\\'s the corrected version:\\n\\npython\\nfor giraff in jungle:\\n    print(lion)\\n\\n\\nWithout knowing what\\'s intended, it\\'s hard to give more insight. However, in general, this type of code would likely be used for some form of data processing or iteration where you want to loop through a list of elements.\\n\\nThe context is unclear without further information on the `jungle` variable and its contents.'"
      ]
     },
     "execution_count": 32,
     "metadata": {},
     "output_type": "execute_result"
    }
   ],
   "source": [
    "technical_sme_llama(question, OLLAMA_API)"
   ]
  },
  {
   "cell_type": "code",
   "execution_count": null,
   "id": "b1cec188-ef49-463b-a9a7-dbc80248c1b6",
   "metadata": {},
   "outputs": [],
   "source": []
  }
 ],
 "metadata": {
  "kernelspec": {
   "display_name": "Python 3 (ipykernel)",
   "language": "python",
   "name": "python3"
  },
  "language_info": {
   "codemirror_mode": {
    "name": "ipython",
    "version": 3
   },
   "file_extension": ".py",
   "mimetype": "text/x-python",
   "name": "python",
   "nbconvert_exporter": "python",
   "pygments_lexer": "ipython3",
   "version": "3.11.3"
  }
 },
 "nbformat": 4,
 "nbformat_minor": 5
}
